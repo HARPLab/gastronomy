{
 "cells": [
  {
   "cell_type": "code",
   "execution_count": 1,
   "metadata": {},
   "outputs": [],
   "source": [
    "import csv\n",
    "import pickle\n",
    "import numpy as np"
   ]
  },
  {
   "cell_type": "code",
   "execution_count": 2,
   "metadata": {},
   "outputs": [],
   "source": [
    "robot_state_data_file_path = '/home/sony/logs/angled_slice.txt'"
   ]
  },
  {
   "cell_type": "code",
   "execution_count": 3,
   "metadata": {},
   "outputs": [],
   "source": [
    "with open(robot_state_data_file_path) as csv_file:\n",
    "    csv_reader = csv.reader(csv_file, delimiter=',')\n",
    "    line_count = 0\n",
    "    state_dict = {}\n",
    "    state_dict_index = {}\n",
    "    state_dict_quantity = {}\n",
    "    index = 0\n",
    "    current_skill_id = 0\n",
    "    current_skill_starting_time = 0\n",
    "    current_skill_desc = ''\n",
    "    last_skill_time = 0.0\n",
    "    \n",
    "    skill_time_threshold = 0.01\n",
    "    \n",
    "    saw_info = False\n",
    "    skill_started = False\n",
    "    for row in csv_reader:\n",
    "        if line_count == 0:\n",
    "            for item in row:\n",
    "                item_name = item[:item.find('(')]\n",
    "                state_dict_index[item_name] = index\n",
    "                state_dict_quantity[item_name] = int(item[item.find('(')+1:item.find(')')])\n",
    "                index += state_dict_quantity[item_name]\n",
    "            line_count += 1\n",
    "        else:\n",
    "            if 'info' in row[0]:\n",
    "                saw_info = True\n",
    "                first_element = row[0]\n",
    "                current_skill_id = int(first_element[first_element.rfind(':')+2:])\n",
    "                third_element = row[2]\n",
    "                current_skill_starting_time = int(third_element[third_element.rfind(':')+2:])\n",
    "                fourth_element = row[3]\n",
    "                current_skill_desc = fourth_element[fourth_element.rfind(':')+2:]\n",
    "                state_dict[current_skill_starting_time] = {\"skill_id\":current_skill_id, \"skill_desc\": current_skill_desc, \"skill_state_dict\": {}}\n",
    "            elif saw_info and float(row[0]) == 0:\n",
    "                skill_started = True\n",
    "                last_skill_time = 0.0\n",
    "                skill_dict = state_dict[current_skill_starting_time]\n",
    "                skill_state_dict = skill_dict[\"skill_state_dict\"]\n",
    "                for item_name in state_dict_index.keys():\n",
    "                    skill_state_dict[item_name] = []\n",
    "            if skill_started and float(row[0]) - last_skill_time < skill_time_threshold:\n",
    "                skill_dict = state_dict[current_skill_starting_time]\n",
    "                skill_state_dict = skill_dict[\"skill_state_dict\"]\n",
    "                for item_name in state_dict_index.keys():\n",
    "                    starting_index = state_dict_index[item_name]\n",
    "                    quantity = state_dict_quantity[item_name]\n",
    "                    skill_state_dict[item_name].append([float(x) for x in row[starting_index:starting_index+quantity]])\n",
    "                line_count += 1\n",
    "                last_skill_time = float(row[0])\n",
    "            elif skill_started:\n",
    "                skill_started = False\n",
    "                \n",
    "                skill_dict = state_dict[current_skill_starting_time]\n",
    "                skill_state_dict = skill_dict[\"skill_state_dict\"]\n",
    "                for item_name in state_dict_index.keys():\n",
    "                    skill_state_dict[item_name] = np.array(skill_state_dict[item_name])"
   ]
  },
  {
   "cell_type": "code",
   "execution_count": 4,
   "metadata": {},
   "outputs": [],
   "source": [
    "with open(robot_state_data_file_path[:-3]+'pkl', 'wb') as f:\n",
    "    pickle.dump(state_dict, f)"
   ]
  },
  {
   "cell_type": "code",
   "execution_count": null,
   "metadata": {},
   "outputs": [],
   "source": []
  }
 ],
 "metadata": {
  "kernelspec": {
   "display_name": "Python 3",
   "language": "python",
   "name": "python3"
  },
  "language_info": {
   "codemirror_mode": {
    "name": "ipython",
    "version": 3
   },
   "file_extension": ".py",
   "mimetype": "text/x-python",
   "name": "python",
   "nbconvert_exporter": "python",
   "pygments_lexer": "ipython3",
   "version": "3.6.9"
  }
 },
 "nbformat": 4,
 "nbformat_minor": 4
}
