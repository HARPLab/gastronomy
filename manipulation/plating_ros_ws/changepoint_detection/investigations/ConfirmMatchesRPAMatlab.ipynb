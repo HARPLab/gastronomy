{
 "cells": [
  {
   "cell_type": "code",
   "execution_count": 1,
   "metadata": {},
   "outputs": [
    {
     "data": {
      "text/plain": [
       "array([[1.        , 0.        , 0.        , 0.        , 0.        ],\n",
       "       [0.2       , 0.8       , 0.        , 0.        , 0.        ],\n",
       "       [0.2       , 0.16103974, 0.63896026, 0.        , 0.        ],\n",
       "       [0.2       , 0.18781033, 0.15000417, 0.4621855 , 0.        ]])"
      ]
     },
     "execution_count": 1,
     "metadata": {},
     "output_type": "execute_result"
    }
   ],
   "source": [
    "#The output from the below script matches the result you get by running\n",
    "# travers_test_correctness.m applied to matlab code downloaded from\n",
    "# TurnerComputing.com\n",
    "# For NIPS 2009 BOCPD cite:\n",
    "#@INPROCEEDINGS{Turner2009,\n",
    "#author = {Ryan Turner and Yunus Saat\\c{c}i and Carl Edward Rasmussen},\n",
    "#title = {Adaptive Sequential {B}ayesian Change Point Detection},\n",
    "#booktitle = {Temporal Segmentation Workshop at NIPS 2009},\n",
    "#year = {2009},\n",
    "#editor = {Zaid Harchaoui},\n",
    "#address = {Whistler, BC, Canada},\n",
    "#month = {December},\n",
    "#url = {http://mlg.eng.cam.ac.uk/rdturner/BOCPD.pdf}\n",
    "#}\n",
    "import sys\n",
    "import numpy as np\n",
    "sys.path.insert(0, \"../scripts\")\n",
    "import changepoint_detector.gaussian_model as gm\n",
    "import changepoint_detector.changepoint_detector as chd\n",
    "# this isn't really a test, it just makes a pretty picture\n",
    "# but we also note that (after t0) the probability of reset is always exactly the reset_prob\n",
    "\n",
    "num_variables = 1\n",
    "apriori_n = 3.0\n",
    "apriori_mean = np.zeros(num_variables)\n",
    "apriori_ssd = np.ones(num_variables) * 2\n",
    "model_generator = gm.GaussianPredictor(num_variables, apriori_n, apriori_mean, apriori_n/2, apriori_ssd/2).Fit\n",
    "\n",
    "X = np.array([[1],[0],[-1]])\n",
    "\n",
    "\n",
    "max_duration = 5\n",
    "reset_prob = 1/(5)\n",
    "change_detector = chd.ChangepointDetector(X, reset_prob, model_generator, max_duration)\n",
    "result_probs = change_detector.ModelChangepoints()\n",
    "result_probs"
   ]
  }
 ],
 "metadata": {
  "kernelspec": {
   "display_name": "Python 3",
   "language": "python",
   "name": "python3"
  },
  "language_info": {
   "codemirror_mode": {
    "name": "ipython",
    "version": 3
   },
   "file_extension": ".py",
   "mimetype": "text/x-python",
   "name": "python",
   "nbconvert_exporter": "python",
   "pygments_lexer": "ipython3",
   "version": "3.5.2"
  }
 },
 "nbformat": 4,
 "nbformat_minor": 2
}
